{
 "cells": [
  {
   "cell_type": "markdown",
   "metadata": {},
   "source": [
    "# Exemplos de Markdown\n",
    "\n",
    "# Titulo 1\n",
    "## Titulo 2\n",
    "### Titulo 3\n",
    "- [Python Link](https://www.python.org/)\n",
    "\n",
    "**Negrito:** \n",
    "*Italico*\n",
    "\n",
    "```\n",
    "bloco de codigo\n",
    "```"
   ]
  },
  {
   "cell_type": "code",
   "execution_count": 7,
   "metadata": {},
   "outputs": [
    {
     "name": "stdout",
     "output_type": "stream",
     "text": [
      "Hello World\n"
     ]
    }
   ],
   "source": [
    "print('Hello World')"
   ]
  },
  {
   "cell_type": "markdown",
   "metadata": {},
   "source": [
    "# Strings"
   ]
  },
  {
   "cell_type": "code",
   "execution_count": 22,
   "metadata": {},
   "outputs": [
    {
     "name": "stdout",
     "output_type": "stream",
     "text": [
      "19\n",
      "B\n",
      "n\n",
      "Be\n",
      "m vi\n",
      "Bmvnoa yhn\n",
      "bem vindo ao python\n",
      "BEM VINDO AO PYTHON\n",
      "Bem Vindo Ao Python\n",
      "10\n",
      "3\n",
      "['Bem', 'vindo', 'ao', 'python']\n",
      "Bem vindo ao meu mundo bb\n"
     ]
    }
   ],
   "source": [
    "frase = 'Bem vindo ao python'\n",
    "print(len(frase)) # Quantidade de letras\n",
    "print(frase[0]) #Retorna a primeira letra\n",
    "print(frase[-1]) # Retorna a ultima letra\n",
    "print(frase[:2]) # Do indice 0 ao indice 2\n",
    "print(frase[2:6]) # Do indice 2 ao indice 6\n",
    "print(frase[::2]) # Pula de 2 em 2\n",
    "print(frase.lower()) # Todas minusculas\n",
    "print(frase.upper()) # Todas maiusculas\n",
    "print(frase.title()) # primeiras letras maiusculas\n",
    "print(frase.find('a')) # Retorna o indice do primeiro registro passado por parametro\n",
    "print(frase.count('o')) # Conta quantas letras/palavras tem na frase\n",
    "print(frase.split(' ')) # Quebra a frase por espaço e transforma em array\n",
    "print(frase.replace('python', 'meu mundo bb'))"
   ]
  },
  {
   "cell_type": "markdown",
   "metadata": {},
   "source": [
    "# Listas"
   ]
  },
  {
   "cell_type": "code",
   "execution_count": 2,
   "metadata": {},
   "outputs": [],
   "source": [
    "nomes = ['Joao', 'Maria', 'Jose']"
   ]
  },
  {
   "cell_type": "code",
   "execution_count": 3,
   "metadata": {},
   "outputs": [
    {
     "name": "stdout",
     "output_type": "stream",
     "text": [
      "['Joao', 'Maria', 'Jose']\n"
     ]
    }
   ],
   "source": [
    "print(nomes)"
   ]
  },
  {
   "cell_type": "code",
   "execution_count": 9,
   "metadata": {},
   "outputs": [
    {
     "name": "stdout",
     "output_type": "stream",
     "text": [
      "[1, 2, 3, 4]\n",
      "[0, 2, 4, 6, 8]\n"
     ]
    }
   ],
   "source": [
    "# Gerar uma lista com 4 números com o range\n",
    "print(list(range(1,5)))\n",
    "\n",
    "# Saltar de 2 em 2\n",
    "print(list(range(0,10,2)))"
   ]
  },
  {
   "cell_type": "markdown",
   "metadata": {},
   "source": [
    "# Dicionários"
   ]
  },
  {
   "cell_type": "code",
   "execution_count": 5,
   "metadata": {},
   "outputs": [
    {
     "name": "stdout",
     "output_type": "stream",
     "text": [
      "{'nome': 'Flavio', 'idade': 22, 'curso': 'Sistemas de Informacao'}\n"
     ]
    }
   ],
   "source": [
    "aluno = {'nome':'Flavio', 'idade':22, 'curso':'Sistemas de Informacao'}\n",
    "print(aluno)"
   ]
  },
  {
   "cell_type": "code",
   "execution_count": 6,
   "metadata": {},
   "outputs": [
    {
     "name": "stdout",
     "output_type": "stream",
     "text": [
      "Flavio\n"
     ]
    }
   ],
   "source": [
    "print(aluno['nome'])"
   ]
  },
  {
   "cell_type": "markdown",
   "metadata": {},
   "source": [
    "# Estrutura de repetição"
   ]
  },
  {
   "cell_type": "markdown",
   "metadata": {},
   "source": [
    "# For\n",
    "Utilizado para imprimir elementos de uma lista"
   ]
  },
  {
   "cell_type": "code",
   "execution_count": 4,
   "metadata": {},
   "outputs": [
    {
     "name": "stdout",
     "output_type": "stream",
     "text": [
      "Joao\n",
      "Maria\n",
      "Jose\n"
     ]
    }
   ],
   "source": [
    "for nome in nomes:\n",
    "    print(nome)"
   ]
  },
  {
   "cell_type": "markdown",
   "metadata": {},
   "source": [
    "## while\n",
    "Executa uma instrução enquanto a condição for verdadeira"
   ]
  },
  {
   "cell_type": "code",
   "execution_count": 25,
   "metadata": {},
   "outputs": [
    {
     "name": "stdout",
     "output_type": "stream",
     "text": [
      "Qual seu nome? Flavio\n",
      "Bem vindo  Flavio\n",
      "Qual seu nome? Teste\n",
      "Bem vindo  Teste\n",
      "Qual seu nome? sair\n",
      "Bem vindo  sair\n",
      "Bye\n"
     ]
    }
   ],
   "source": [
    "nome = ''\n",
    "while(nome != 'sair'):\n",
    "    nome = input('Qual seu nome? ')\n",
    "    print('Bem vindo ', nome)\n",
    "print('Bye')\n"
   ]
  },
  {
   "cell_type": "markdown",
   "metadata": {},
   "source": [
    "### Funções"
   ]
  },
  {
   "cell_type": "code",
   "execution_count": 2,
   "metadata": {},
   "outputs": [
    {
     "data": {
      "text/plain": [
       "5"
      ]
     },
     "execution_count": 2,
     "metadata": {},
     "output_type": "execute_result"
    }
   ],
   "source": [
    "def soma(x, y):\n",
    "    return x+y\n",
    "\n",
    "soma(2,3)"
   ]
  },
  {
   "cell_type": "code",
   "execution_count": null,
   "metadata": {},
   "outputs": [],
   "source": []
  }
 ],
 "metadata": {
  "kernelspec": {
   "display_name": "Python 3",
   "language": "python",
   "name": "python3"
  },
  "language_info": {
   "codemirror_mode": {
    "name": "ipython",
    "version": 3
   },
   "file_extension": ".py",
   "mimetype": "text/x-python",
   "name": "python",
   "nbconvert_exporter": "python",
   "pygments_lexer": "ipython3",
   "version": "3.8.5"
  }
 },
 "nbformat": 4,
 "nbformat_minor": 4
}
